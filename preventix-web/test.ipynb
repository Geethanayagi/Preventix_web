{
 "cells": [
  {
   "cell_type": "code",
   "execution_count": 5,
   "metadata": {},
   "outputs": [
    {
     "name": "stdout",
     "output_type": "stream",
     "text": [
      "Healthcare is a complex system that encompasses the prevention, diagnosis, treatment, and management of illnesses, injuries, and other health conditions. It involves a wide range of services, professionals, and facilities that work together to provide medical care to individuals and communities. Here's a comprehensive overview of healthcare:\n",
      "\n",
      "**Components of Healthcare:**\n",
      "\n",
      "1. **Preventive Care:** This includes measures aimed at preventing diseases or detecting them early, such as vaccinations, health screenings, and public health campaigns.\n",
      "2. **Diagnostic Services:** Diagnostic tests, such as imaging studies (e.g., X-rays, CT scans), laboratory tests (e.g., blood work), and biopsies, help doctors identify the cause of symptoms and develop a treatment plan.\n",
      "3. **Treatment:** This includes medication, surgery, therapy, and other interventions aimed at curing or managing health conditions.\n",
      "4. **Rehabilitation:** After treatment, rehabilitation services, such as physical therapy, occupational therapy, and speech therapy, help individuals recover and regain functional abilities.\n",
      "5. **Supportive Care:** This includes services that help patients cope with symptoms, manage pain, and enhance quality of life, such as palliative care and hospice care.\n",
      "\n",
      "**Types of Healthcare:**\n",
      "\n",
      "1. **Primary Care:** Providing initial diagnosis and treatment for common medical conditions, such as family physicians and pediatricians.\n",
      "2. **Specialized Care:** Providing specialized medical care for complex conditions, such as cardiologists and oncologists.\n",
      "3. **Emergency Care:** Providing immediate medical attention for acute conditions, such as emergency departments and urgent care centers.\n",
      "4. **Rehabilitation Care:** Focusing on recovery and functional rehabilitation, such as physical therapy and rehabilitation centers.\n",
      "\n",
      "**Healthcare Professionals:**\n",
      "\n",
      "1. **Physicians:** Medical doctors who specialize in specific areas of medicine, such as primary care physicians, specialists, and surgeons.\n",
      "2. **Nurses:** Trained healthcare professionals who work alongside physicians to provide patient care, including registered nurses (RNs) and advanced practice registered nurses (APRNs).\n",
      "3. **Allied Health Professionals:** Healthcare professionals who provide specialized services, such as physical therapists, occupational therapists, and speech therapists.\n",
      "4. **Support Staff:** Administrative personnel, including medical assistants, medical secretaries, and billing clerks, who support the healthcare team.\n",
      "\n",
      "**Healthcare Facilities:**\n",
      "\n",
      "1. **Hospitals:** Providing inpatient care for acute and chronic conditions, surgeries, and rehabilitation.\n",
      "2. **Outpatient Facilities:** Providing care for patients who are not hospitalized, such as clinics, surgery centers, and rehabilitation centers.\n",
      "3. **Community Health Centers:** Providing primary and specialty care, including prenatal, pediatric, and mental health services.\n",
      "4. **Home Care:** Providing medical care and support services in the patient's home, including nursing, therapy, and homemaker services.\n",
      "\n",
      "**Healthcare Financing:**\n",
      "\n",
      "1. **Insurance:** Private insurance plans, such as HMOs, PPOs, and employer-sponsored health plans, cover medical expenses.\n",
      "2. **Medicaid and Medicare:** Government-funded programs providing health coverage for low-income individuals and seniors.\n",
      "3. **Out-of-Pocket:** Paying for medical expenses directly, including copays, coinsurance, and deductibles.\n",
      "4. **Government Programs:** Programs, such as the Veterans Administration, provide health coverage for specific populations.\n",
      "\n",
      "**Challenges and Trends in Healthcare:**\n",
      "\n",
      "1. **Access to Care:** Ensuring that all individuals have access to quality, affordable healthcare.\n",
      "2. **Cost Containment:** Reducing healthcare costs while maintaining quality care.\n",
      "3. **Technological Advancements:** Incorporating technology, such as electronic health records, telemedicine, and artificial intelligence, to improve healthcare delivery.\n",
      "4. **Population Health:** Focusing on preventing disease and promoting health in populations, rather than just treating individual illnesses.\n",
      "\n",
      "This overview provides a comprehensive framework for understanding the complex healthcare system.\n"
     ]
    }
   ],
   "source": [
    "from groq import Groq\n",
    "client = Groq(api_key=\"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\")\n",
    "completion = client.chat.completions.create(\n",
    "    model=\"llama-3.1-8b-instant\",\n",
    "    messages=[\n",
    "        {\n",
    "            \"role\": \"user\",\n",
    "            \"content\": \"Explain healthcare\"\n",
    "        }\n",
    "    ]\n",
    ")\n",
    "print(completion.choices[0].message.content)"
   ]
  },
  {
   "cell_type": "code",
   "execution_count": 2,
   "metadata": {},
   "outputs": [
    {
     "name": "stdout",
     "output_type": "stream",
     "text": [
      "Collecting groq\n",
      "  Using cached groq-0.31.0-py3-none-any.whl.metadata (16 kB)\n",
      "Requirement already satisfied: anyio<5,>=3.5.0 in /Users/boomika/Desktop/marine/myenv/lib/python3.11/site-packages (from groq) (4.9.0)\n",
      "Requirement already satisfied: distro<2,>=1.7.0 in /Users/boomika/Desktop/marine/myenv/lib/python3.11/site-packages (from groq) (1.9.0)\n",
      "Requirement already satisfied: httpx<1,>=0.23.0 in /Users/boomika/Desktop/marine/myenv/lib/python3.11/site-packages (from groq) (0.28.1)\n",
      "Requirement already satisfied: pydantic<3,>=1.9.0 in /Users/boomika/Desktop/marine/myenv/lib/python3.11/site-packages (from groq) (2.11.7)\n",
      "Requirement already satisfied: sniffio in /Users/boomika/Desktop/marine/myenv/lib/python3.11/site-packages (from groq) (1.3.1)\n",
      "Requirement already satisfied: typing-extensions<5,>=4.10 in /Users/boomika/Desktop/marine/myenv/lib/python3.11/site-packages (from groq) (4.12.2)\n",
      "Requirement already satisfied: idna>=2.8 in /Users/boomika/Desktop/marine/myenv/lib/python3.11/site-packages (from anyio<5,>=3.5.0->groq) (3.8)\n",
      "Requirement already satisfied: certifi in /Users/boomika/Desktop/marine/myenv/lib/python3.11/site-packages (from httpx<1,>=0.23.0->groq) (2025.1.31)\n",
      "Requirement already satisfied: httpcore==1.* in /Users/boomika/Desktop/marine/myenv/lib/python3.11/site-packages (from httpx<1,>=0.23.0->groq) (1.0.9)\n",
      "Requirement already satisfied: h11>=0.16 in /Users/boomika/Desktop/marine/myenv/lib/python3.11/site-packages (from httpcore==1.*->httpx<1,>=0.23.0->groq) (0.16.0)\n",
      "Requirement already satisfied: annotated-types>=0.6.0 in /Users/boomika/Desktop/marine/myenv/lib/python3.11/site-packages (from pydantic<3,>=1.9.0->groq) (0.7.0)\n",
      "Requirement already satisfied: pydantic-core==2.33.2 in /Users/boomika/Desktop/marine/myenv/lib/python3.11/site-packages (from pydantic<3,>=1.9.0->groq) (2.33.2)\n",
      "Requirement already satisfied: typing-inspection>=0.4.0 in /Users/boomika/Desktop/marine/myenv/lib/python3.11/site-packages (from pydantic<3,>=1.9.0->groq) (0.4.1)\n",
      "Using cached groq-0.31.0-py3-none-any.whl (131 kB)\n",
      "Installing collected packages: groq\n",
      "Successfully installed groq-0.31.0\n",
      "\n",
      "\u001b[1m[\u001b[0m\u001b[34;49mnotice\u001b[0m\u001b[1;39;49m]\u001b[0m\u001b[39;49m A new release of pip is available: \u001b[0m\u001b[31;49m24.2\u001b[0m\u001b[39;49m -> \u001b[0m\u001b[32;49m25.2\u001b[0m\n",
      "\u001b[1m[\u001b[0m\u001b[34;49mnotice\u001b[0m\u001b[1;39;49m]\u001b[0m\u001b[39;49m To update, run: \u001b[0m\u001b[32;49mpip install --upgrade pip\u001b[0m\n",
      "Note: you may need to restart the kernel to use updated packages.\n"
     ]
    }
   ],
   "source": [
    "pip install groq"
   ]
  }
 ],
 "metadata": {
  "kernelspec": {
   "display_name": "Python (myenv)",
   "language": "python",
   "name": "myenv"
  },
  "language_info": {
   "codemirror_mode": {
    "name": "ipython",
    "version": 3
   },
   "file_extension": ".py",
   "mimetype": "text/x-python",
   "name": "python",
   "nbconvert_exporter": "python",
   "pygments_lexer": "ipython3",
   "version": "3.11.3"
  }
 },
 "nbformat": 4,
 "nbformat_minor": 2
}
