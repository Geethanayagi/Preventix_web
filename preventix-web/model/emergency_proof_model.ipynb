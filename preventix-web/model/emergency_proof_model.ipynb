{
 "cells": [
  {
   "cell_type": "code",
   "execution_count": 1,
   "id": "35a5a9f7",
   "metadata": {},
   "outputs": [
    {
     "name": "stderr",
     "output_type": "stream",
     "text": [
      "C:\\Users\\mvenk\\AppData\\Roaming\\Python\\Python313\\site-packages\\tqdm\\auto.py:21: TqdmWarning: IProgress not found. Please update jupyter and ipywidgets. See https://ipywidgets.readthedocs.io/en/stable/user_install.html\n",
      "  from .autonotebook import tqdm as notebook_tqdm\n"
     ]
    },
    {
     "name": "stdout",
     "output_type": "stream",
     "text": [
      "\n",
      "Prediction Probabilities:\n",
      "Class 0 (No ER Visit): 33.20%\n",
      "Class 1 (ER Visit): 66.80%\n",
      "\n",
      "Final Prediction: 1\n"
     ]
    }
   ],
   "source": [
    "import pandas as pd\n",
    "from catboost import CatBoostClassifier, Pool\n",
    "import shap\n",
    "import numpy as np\n",
    "import matplotlib.pyplot as plt\n",
    "\n",
    "\n",
    "# --- 2. Load the saved model (for later usage) ---\n",
    "loaded_model = CatBoostClassifier()\n",
    "loaded_model.load_model(\"catboost_er_model.cbm\")\n",
    "\n",
    "# --- 3. Prepare input data for prediction ---\n",
    "# Feature order must match training\n",
    "features = [\n",
    "    \"Gender\", \"Age\", \"BMI\", \"HbA1c\", \"Cholesterol (Total)\", \"ER Visits (past 12m)\",\n",
    "    \"Vigorous Activity\", \"(Smoked 100 cigarettes)\", \"Calories\", \"Sugar\", \"Fiber\",\n",
    "    \"Saturated Fat\", \"Dietary Cholesterol\", \"Sodium\", \"Potassium\",\n",
    "    \"Systolic_BP_Avg\", \"Diastolic_BP_Avg\"\n",
    "]\n",
    "\n",
    "new_data = pd.DataFrame([[\n",
    "    1,     # Gender\n",
    "    54,    # Age\n",
    "    22.2,  # BMI\n",
    "    5.3,   # HbA1c\n",
    "    246,   # Cholesterol (Total)\n",
    "    2,     # ER Visits (past 12m)\n",
    "    1,     # Vigorous Activity\n",
    "    1,     # (Smoked 100 cigarettes)\n",
    "    1751,  # Calories\n",
    "    96.37, # Sugar\n",
    "    9.3,   # Fiber\n",
    "    21,    # Saturated Fat\n",
    "    447,   # Dietary Cholesterol\n",
    "    3064,  # Sodium\n",
    "    1778,  # Potassium\n",
    "    106,   # Systolic_BP_Avg\n",
    "    56     # Diastolic_BP_Avg\n",
    "]], columns=features)\n",
    "\n",
    "\n",
    "# --- 4. Prediction ---\n",
    "# Probabilities\n",
    "probs = loaded_model.predict_proba(new_data)[0]\n",
    "\n",
    "print(f\"\\nPrediction Probabilities:\")\n",
    "print(f\"Class 0 (No ER Visit): {probs[0]*100:.2f}%\")\n",
    "print(f\"Class 1 (ER Visit): {probs[1]*100:.2f}%\")\n",
    "\n",
    "# Predicted class\n",
    "predicted_class = loaded_model.predict(new_data)[0]\n",
    "print(f\"\\nFinal Prediction: {predicted_class}\")"
   ]
  },
  {
   "cell_type": "code",
   "execution_count": null,
   "id": "30ae9b4d",
   "metadata": {},
   "outputs": [],
   "source": []
  }
 ],
 "metadata": {
  "kernelspec": {
   "display_name": "Python 3",
   "language": "python",
   "name": "python3"
  },
  "language_info": {
   "codemirror_mode": {
    "name": "ipython",
    "version": 3
   },
   "file_extension": ".py",
   "mimetype": "text/x-python",
   "name": "python",
   "nbconvert_exporter": "python",
   "pygments_lexer": "ipython3",
   "version": "3.13.5"
  }
 },
 "nbformat": 4,
 "nbformat_minor": 5
}
